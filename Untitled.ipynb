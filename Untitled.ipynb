{
 "cells": [
  {
   "cell_type": "code",
   "execution_count": 1,
   "id": "1985afd9-fb19-4cc3-96ca-8883bac3bf2f",
   "metadata": {},
   "outputs": [],
   "source": [
    "from mason import BrickClassGenerator, compile_model, Brick\n",
    "import rdflib"
   ]
  },
  {
   "cell_type": "code",
   "execution_count": 2,
   "id": "c65c117b-4240-4a50-886c-dde0f01640fe",
   "metadata": {},
   "outputs": [],
   "source": [
    "BLDG = rdflib.Namespace(\"example#\")\n",
    "# Brick = BrickClassGenerator()"
   ]
  },
  {
   "cell_type": "code",
   "execution_count": 9,
   "id": "77d0d647-f8fa-4fdb-8360-345c12e6fba2",
   "metadata": {},
   "outputs": [
    {
     "name": "stdout",
     "output_type": "stream",
     "text": [
      "Help on class AHU in module mason:\n",
      "\n",
      "class AHU(HVAC_Equipment)\n",
      " |  AHU(URI: rdflib.term.URIRef, label: Optional[str] = None)\n",
      " |  \n",
      " |  Assembly consisting of sections containing a fan or fans and other necessary equipment to perform one or more of the following functions: circulating, filtration, heating, cooling, heat recovery, humidifying, dehumidifying, and mixing of air. Is usually connected to an air-distribution system.\n",
      " |  \n",
      " |  Method resolution order:\n",
      " |      AHU\n",
      " |      HVAC_Equipment\n",
      " |      Equipment\n",
      " |      Entity\n",
      " |      builtins.object\n",
      " |  \n",
      " |  Methods defined here:\n",
      " |  \n",
      " |  __repr__ = _brick_repr(self)\n",
      " |  \n",
      " |  ----------------------------------------------------------------------\n",
      " |  Data and other attributes defined here:\n",
      " |  \n",
      " |  classURI = rdflib.term.URIRef('https://brickschema.org/schema/Brick#AH...\n",
      " |  \n",
      " |  ----------------------------------------------------------------------\n",
      " |  Methods inherited from Equipment:\n",
      " |  \n",
      " |  add_feeds = f(self, ent: mason.Entity)\n",
      " |  \n",
      " |  add_hasLocation = f(self, ent: mason.Entity)\n",
      " |  \n",
      " |  add_hasPart = f(self, ent: mason.Entity)\n",
      " |  \n",
      " |  add_hasPoint = f(self, ent: mason.Entity)\n",
      " |  \n",
      " |  add_isPartOf = f(self, ent: mason.Entity)\n",
      " |  \n",
      " |  add_regulates = f(self, ent: mason.Entity)\n",
      " |  \n",
      " |  ----------------------------------------------------------------------\n",
      " |  Methods inherited from Entity:\n",
      " |  \n",
      " |  __init__(self, URI: rdflib.term.URIRef, label: Optional[str] = None)\n",
      " |      Initialize self.  See help(type(self)) for accurate signature.\n",
      " |  \n",
      " |  add_controls = f(self, ent: mason.Entity)\n",
      " |  \n",
      " |  add_feedsAir = f(self, ent: mason.Entity)\n",
      " |  \n",
      " |  add_hasAddress = f(self, ent: mason.Entity)\n",
      " |  \n",
      " |  add_hasInputSubstance = f(self, ent: mason.Entity)\n",
      " |  \n",
      " |  add_hasOutputSubstance = f(self, ent: mason.Entity)\n",
      " |  \n",
      " |  add_hasQUDTReference = f(self, ent: mason.Entity)\n",
      " |  \n",
      " |  add_hasTag = f(self, ent: mason.Entity)\n",
      " |  \n",
      " |  add_hasUnit = f(self, ent: mason.Entity)\n",
      " |  \n",
      " |  add_isControlledBy = f(self, ent: mason.Entity)\n",
      " |  \n",
      " |  add_isFedBy = f(self, ent: mason.Entity)\n",
      " |  \n",
      " |  add_latitutde = f(self, ent: mason.Entity)\n",
      " |  \n",
      " |  add_longitude = f(self, ent: mason.Entity)\n",
      " |  \n",
      " |  add_value = f(self, ent: mason.Entity)\n",
      " |  \n",
      " |  ----------------------------------------------------------------------\n",
      " |  Readonly properties inherited from Entity:\n",
      " |  \n",
      " |  class_label\n",
      " |  \n",
      " |  definition\n",
      " |  \n",
      " |  ----------------------------------------------------------------------\n",
      " |  Data descriptors inherited from Entity:\n",
      " |  \n",
      " |  __dict__\n",
      " |      dictionary for instance variables (if defined)\n",
      " |  \n",
      " |  __weakref__\n",
      " |      list of weak references to the object (if defined)\n",
      "\n"
     ]
    }
   ],
   "source": [
    "help(Brick.AHU)"
   ]
  },
  {
   "cell_type": "code",
   "execution_count": 3,
   "id": "9fb9ea24-2a2c-4a73-accb-944d78437383",
   "metadata": {},
   "outputs": [],
   "source": [
    "ahu1 = Brick.AHU(BLDG[\"ahu1\"], label = \"my only AHU\")\n",
    "\n",
    "vavs = [Brick.VAV(BLDG[f\"vav{x}\"]) for x in range(5)]\n",
    "for vav in vavs:\n",
    "    ahu1.add_feeds(vav)"
   ]
  },
  {
   "cell_type": "code",
   "execution_count": 4,
   "id": "46326529-0c7c-428d-a8ee-2af4d7480904",
   "metadata": {},
   "outputs": [
    {
     "data": {
      "text/plain": [
       "[<BRICK VAV: example#vav0>,\n",
       " <BRICK VAV: example#vav1>,\n",
       " <BRICK VAV: example#vav2>,\n",
       " <BRICK VAV: example#vav3>,\n",
       " <BRICK VAV: example#vav4>]"
      ]
     },
     "execution_count": 4,
     "metadata": {},
     "output_type": "execute_result"
    }
   ],
   "source": [
    "ahu1.feeds"
   ]
  },
  {
   "cell_type": "code",
   "execution_count": 5,
   "id": "eee8aa2e-fd73-4542-ab68-3d6b2c63bab4",
   "metadata": {},
   "outputs": [],
   "source": [
    "g = compile_model([(\"bldg\", BLDG)])"
   ]
  },
  {
   "cell_type": "code",
   "execution_count": 6,
   "id": "f41c3bf9-267f-4127-bee6-40ea79dcd4ba",
   "metadata": {},
   "outputs": [],
   "source": [
    "bldg = Brick.Building(BLDG[\"mysite\"])"
   ]
  },
  {
   "cell_type": "code",
   "execution_count": 7,
   "id": "c39d52dc-19bc-4529-aefe-5d8c6e463cd0",
   "metadata": {},
   "outputs": [],
   "source": []
  },
  {
   "cell_type": "code",
   "execution_count": null,
   "id": "f040973c-1a53-4685-b6ae-790e6edfe27d",
   "metadata": {},
   "outputs": [],
   "source": []
  },
  {
   "cell_type": "code",
   "execution_count": null,
   "id": "659ed553-4cd1-4908-8783-927cb1c12f9c",
   "metadata": {},
   "outputs": [],
   "source": []
  },
  {
   "cell_type": "code",
   "execution_count": null,
   "id": "3277381e-4630-41bc-a5fc-95ea2792d163",
   "metadata": {},
   "outputs": [],
   "source": []
  }
 ],
 "metadata": {
  "kernelspec": {
   "display_name": "Python 3 (ipykernel)",
   "language": "python",
   "name": "python3"
  },
  "language_info": {
   "codemirror_mode": {
    "name": "ipython",
    "version": 3
   },
   "file_extension": ".py",
   "mimetype": "text/x-python",
   "name": "python",
   "nbconvert_exporter": "python",
   "pygments_lexer": "ipython3",
   "version": "3.9.5"
  }
 },
 "nbformat": 4,
 "nbformat_minor": 5
}
