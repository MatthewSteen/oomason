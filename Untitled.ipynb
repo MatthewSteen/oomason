{
 "cells": [
  {
   "cell_type": "code",
   "execution_count": 1,
   "id": "1985afd9-fb19-4cc3-96ca-8883bac3bf2f",
   "metadata": {},
   "outputs": [],
   "source": [
    "from mason import BrickClassGenerator, compile_model, Brick\n",
    "import rdflib"
   ]
  },
  {
   "cell_type": "code",
   "execution_count": 2,
   "id": "c65c117b-4240-4a50-886c-dde0f01640fe",
   "metadata": {},
   "outputs": [],
   "source": [
    "BLDG = rdflib.Namespace(\"urn:example#\")\n",
    "# Brick = BrickClassGenerator()"
   ]
  },
  {
   "cell_type": "code",
   "execution_count": 3,
   "id": "77d0d647-f8fa-4fdb-8360-345c12e6fba2",
   "metadata": {},
   "outputs": [
    {
     "data": {
      "text/plain": [
       "[mason.RTU,\n",
       " mason.Dedicated_Outdoor_Air_System_Unit,\n",
       " mason.DOAS,\n",
       " mason.Makeup_Air_Unit,\n",
       " mason.MAU,\n",
       " mason.PAU,\n",
       " mason.Rooftop_Unit]"
      ]
     },
     "execution_count": 3,
     "metadata": {},
     "output_type": "execute_result"
    }
   ],
   "source": [
    "Brick.AHU.__subclasses__()"
   ]
  },
  {
   "cell_type": "code",
   "execution_count": 4,
   "id": "9fb9ea24-2a2c-4a73-accb-944d78437383",
   "metadata": {},
   "outputs": [],
   "source": [
    "ahu1 = Brick.AHU(BLDG[\"ahu1\"], label = \"my only AHU\")\n",
    "\n",
    "vavs = [Brick.VAV(BLDG[f\"vav{x}\"]) for x in range(5)]\n",
    "for vav in vavs:\n",
    "    ahu1.add_feeds(vav)"
   ]
  },
  {
   "cell_type": "code",
   "execution_count": 5,
   "id": "46326529-0c7c-428d-a8ee-2af4d7480904",
   "metadata": {},
   "outputs": [
    {
     "data": {
      "text/plain": [
       "[<BRICK VAV: urn:example#vav0>,\n",
       " <BRICK VAV: urn:example#vav1>,\n",
       " <BRICK VAV: urn:example#vav2>,\n",
       " <BRICK VAV: urn:example#vav3>,\n",
       " <BRICK VAV: urn:example#vav4>]"
      ]
     },
     "execution_count": 5,
     "metadata": {},
     "output_type": "execute_result"
    }
   ],
   "source": [
    "ahu1.feeds"
   ]
  },
  {
   "cell_type": "code",
   "execution_count": 6,
   "id": "1bb3eb21-e034-43e5-b806-24d0ba8a4af7",
   "metadata": {},
   "outputs": [],
   "source": [
    "bldg = Brick.Building(BLDG[\"bldg\"], \"My Building\")\n",
    "fl1 = Brick.Floor(BLDG[\"floor1\"], \"Floor 1\")\n",
    "bldg.add_hasPart(fl1)\n",
    "rm1 = Brick.Room(BLDG[\"room1\"], \"Room 1\")\n",
    "fl1.add_hasPart(rm1)\n",
    "rm1.add_area(Brick.EntityProperty.AreaShape(12, Brick.Unit.Square_Foot))"
   ]
  },
  {
   "cell_type": "code",
   "execution_count": 11,
   "id": "e8210a07-fc66-473c-b33a-93bc0b47ff53",
   "metadata": {},
   "outputs": [
    {
     "data": {
      "text/plain": [
       "[rdflib.term.URIRef('http://qudt.org/vocab/unit/FT2'),\n",
       " rdflib.term.URIRef('http://qudt.org/vocab/unit/M2')]"
      ]
     },
     "execution_count": 11,
     "metadata": {},
     "output_type": "execute_result"
    }
   ],
   "source": [
    "Brick.EntityProperty.AreaShape.possible_units"
   ]
  },
  {
   "cell_type": "code",
   "execution_count": 7,
   "id": "8bc4ff86-ef34-4b3e-952c-322dafbcd8fe",
   "metadata": {},
   "outputs": [
    {
     "data": {
      "text/plain": [
       "['Adult Education',\n",
       " 'Ambulatory Surgical Center',\n",
       " 'Aquarium',\n",
       " 'Automobile Dealership',\n",
       " 'Bank Branch',\n",
       " 'Bar/Nightclub',\n",
       " 'Barracks',\n",
       " 'Bowling Alley',\n",
       " 'Casino',\n",
       " 'College/University']"
      ]
     },
     "execution_count": 7,
     "metadata": {},
     "output_type": "execute_result"
    }
   ],
   "source": [
    "Brick.EntityProperty.BuildingPrimaryFunctionShape.possible_values[:10]"
   ]
  },
  {
   "cell_type": "code",
   "execution_count": 8,
   "id": "f09db7da-b4fb-41d4-a3d3-d3ba84045327",
   "metadata": {},
   "outputs": [],
   "source": [
    "primary_use = Brick.EntityProperty.BuildingPrimaryFunctionShape('Aquarium')\n",
    "bldg.add_buildingPrimaryFunction(primary_use)"
   ]
  },
  {
   "cell_type": "code",
   "execution_count": 9,
   "id": "eee8aa2e-fd73-4542-ab68-3d6b2c63bab4",
   "metadata": {},
   "outputs": [],
   "source": [
    "g = compile_model([(\"bldg\", BLDG)]) # provide namespaces when compiling"
   ]
  },
  {
   "cell_type": "code",
   "execution_count": 10,
   "id": "f41c3bf9-267f-4127-bee6-40ea79dcd4ba",
   "metadata": {},
   "outputs": [
    {
     "name": "stdout",
     "output_type": "stream",
     "text": [
      "@prefix bldg: <urn:example#> .\n",
      "@prefix brick: <https://brickschema.org/schema/Brick#> .\n",
      "@prefix unit: <http://qudt.org/vocab/unit/> .\n",
      "@prefix xsd: <http://www.w3.org/2001/XMLSchema#> .\n",
      "\n",
      "bldg:ahu1 a brick:AHU ;\n",
      "    brick:feeds bldg:vav0,\n",
      "        bldg:vav1,\n",
      "        bldg:vav2,\n",
      "        bldg:vav3,\n",
      "        bldg:vav4 .\n",
      "\n",
      "bldg:bldg a brick:Building ;\n",
      "    brick:buildingPrimaryFunction [ a brick:BuildingPrimaryFunctionShape ;\n",
      "            brick:value \"Aquarium\" ] ;\n",
      "    brick:hasPart bldg:floor1 .\n",
      "\n",
      "bldg:floor1 a brick:Floor ;\n",
      "    brick:hasPart bldg:room1 .\n",
      "\n",
      "bldg:room1 a brick:Room ;\n",
      "    brick:area [ a brick:AreaShape ;\n",
      "            brick:hasUnit unit:FT2 ;\n",
      "            brick:value 12 ] .\n",
      "\n",
      "bldg:vav0 a brick:VAV .\n",
      "\n",
      "bldg:vav1 a brick:VAV .\n",
      "\n",
      "bldg:vav2 a brick:VAV .\n",
      "\n",
      "bldg:vav3 a brick:VAV .\n",
      "\n",
      "bldg:vav4 a brick:VAV .\n",
      "\n"
     ]
    }
   ],
   "source": [
    "g.serialize(\"output.ttl\", format=\"ttl\")\n",
    "!cat output.ttl"
   ]
  },
  {
   "cell_type": "code",
   "execution_count": null,
   "id": "c39d52dc-19bc-4529-aefe-5d8c6e463cd0",
   "metadata": {},
   "outputs": [],
   "source": []
  },
  {
   "cell_type": "code",
   "execution_count": null,
   "id": "f040973c-1a53-4685-b6ae-790e6edfe27d",
   "metadata": {},
   "outputs": [],
   "source": []
  },
  {
   "cell_type": "code",
   "execution_count": null,
   "id": "659ed553-4cd1-4908-8783-927cb1c12f9c",
   "metadata": {},
   "outputs": [],
   "source": []
  },
  {
   "cell_type": "code",
   "execution_count": null,
   "id": "3277381e-4630-41bc-a5fc-95ea2792d163",
   "metadata": {},
   "outputs": [],
   "source": []
  }
 ],
 "metadata": {
  "kernelspec": {
   "display_name": "Python 3 (ipykernel)",
   "language": "python",
   "name": "python3"
  },
  "language_info": {
   "codemirror_mode": {
    "name": "ipython",
    "version": 3
   },
   "file_extension": ".py",
   "mimetype": "text/x-python",
   "name": "python",
   "nbconvert_exporter": "python",
   "pygments_lexer": "ipython3",
   "version": "3.9.5"
  }
 },
 "nbformat": 4,
 "nbformat_minor": 5
}
